{
 "cells": [
  {
   "cell_type": "code",
   "execution_count": null,
   "metadata": {},
   "outputs": [],
   "source": [
    "import pandas as pd\n",
    "import numpy as np\n",
    "import matplotlib.pyplot as plt\n",
    "import seaborn as sns\n",
    "import re\n",
    "df=pd.read_excel('planilha_unificada_volumetria_tratado.xlsx')\n",
    "df"
   ]
  },
  {
   "cell_type": "code",
   "execution_count": null,
   "metadata": {},
   "outputs": [],
   "source": [
    "df.drop(['Fonte','Data_ref'],axis= 1,inplace=True)\n",
    "df"
   ]
  },
  {
   "cell_type": "code",
   "execution_count": null,
   "metadata": {},
   "outputs": [],
   "source": [
    "def extrair_ano(texto):\n",
    "    texto = str(texto)\n",
    "    match = re.search(r'\\b(\\d{2,4})\\b', texto)\n",
    "    if match:\n",
    "        ano = match.group(1)\n",
    "        if len(ano) == 2:\n",
    "            ano = f\"20{ano}\" if int(ano) >= 20 else f\"19{ano}\"\n",
    "        return int(ano)\n",
    "    return None  \n",
    "\n",
    "\n",
    "df['Ano'] = df['Origem_aba'].apply(extrair_ano).astype('Int64')  \n",
    "\n",
    "\n",
    "def limpar_origem(texto):\n",
    "    texto = str(texto)\n",
    "    match = re.search(r'\\b(\\d{2,4})\\b', texto)\n",
    "    if match:\n",
    "        texto_limpo = re.sub(r'\\b' + re.escape(match.group(1)) + r'\\b', '', texto)\n",
    "        texto_limpo = re.sub(r'\\s{2,}', ' ', texto_limpo).strip()\n",
    "        return texto_limpo\n",
    "    return texto.strip()\n",
    "\n",
    "\n",
    "df['Origem_aba'] = df['Origem_aba'].apply(limpar_origem)\n",
    "\n",
    "df.to_excel('planilhafinal_unificada_sem_ano.xlsx', index=False)\n",
    "df\n"
   ]
  },
  {
   "cell_type": "code",
   "execution_count": null,
   "metadata": {},
   "outputs": [],
   "source": [
    "df=df[['Endereço','Sigla_Sub','Subprefeitura','Lote','Contratada','Volume','Lat','Long','Volume_int','Origem_aba','Ano']]\n",
    "df.to_excel('planilha_unificada_volumetria_ano.xlsx',index=False)\n"
   ]
  }
 ],
 "metadata": {
  "kernelspec": {
   "display_name": "Python 3",
   "language": "python",
   "name": "python3"
  },
  "language_info": {
   "codemirror_mode": {
    "name": "ipython",
    "version": 3
   },
   "file_extension": ".py",
   "mimetype": "text/x-python",
   "name": "python",
   "nbconvert_exporter": "python",
   "pygments_lexer": "ipython3",
   "version": "3.12.1"
  }
 },
 "nbformat": 4,
 "nbformat_minor": 2
}

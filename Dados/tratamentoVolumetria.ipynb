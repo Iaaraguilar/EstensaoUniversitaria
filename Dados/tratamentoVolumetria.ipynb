{
 "cells": [
  {
   "cell_type": "code",
   "execution_count": 2,
   "metadata": {},
   "outputs": [
    {
     "name": "stderr",
     "output_type": "stream",
     "text": [
      "<>:3: SyntaxWarning: invalid escape sequence '\\p'\n",
      "<>:3: SyntaxWarning: invalid escape sequence '\\p'\n",
      "C:\\Users\\55780056838\\AppData\\Local\\Temp\\ipykernel_23712\\3731942397.py:3: SyntaxWarning: invalid escape sequence '\\p'\n",
      "  df = pd.read_excel('Planilhas\\planilha_unificada.xlsx')\n"
     ]
    }
   ],
   "source": [
    "import pandas as pd\n",
    "\n",
    "df = pd.read_excel('Planilhas\\planilha_unificada.xlsx')\n",
    "\n",
    "def tratar_valor(valor):\n",
    "    texto = str(valor).strip().upper()\n",
    "\n",
    "    if 'MENOR' in texto and '1' in texto:\n",
    "        return 1\n",
    "    elif 'MAIOR' in texto and '5' in texto:\n",
    "        return 5\n",
    "    elif '1' in texto and '5' in texto:\n",
    "        return 3\n",
    "    elif 'REVITALIZADO' in texto or 'ELIMINADO' in texto:\n",
    "        return None\n",
    "\n",
    "df['Volume_int'] = df['Volume'].apply(tratar_valor).astype('Int64')\n",
    "\n",
    "df.to_excel('planilha_unificada_volumetria_tratado.xlsx', index= False)"
   ]
  }
 ],
 "metadata": {
  "kernelspec": {
   "display_name": "Python 3",
   "language": "python",
   "name": "python3"
  },
  "language_info": {
   "codemirror_mode": {
    "name": "ipython",
    "version": 3
   },
   "file_extension": ".py",
   "mimetype": "text/x-python",
   "name": "python",
   "nbconvert_exporter": "python",
   "pygments_lexer": "ipython3",
   "version": "3.12.1"
  }
 },
 "nbformat": 4,
 "nbformat_minor": 2
}

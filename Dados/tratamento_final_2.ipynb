{
 "cells": [
  {
   "cell_type": "code",
   "execution_count": 87,
   "metadata": {},
   "outputs": [
    {
     "data": {
      "text/html": [
       "<div>\n",
       "<style scoped>\n",
       "    .dataframe tbody tr th:only-of-type {\n",
       "        vertical-align: middle;\n",
       "    }\n",
       "\n",
       "    .dataframe tbody tr th {\n",
       "        vertical-align: top;\n",
       "    }\n",
       "\n",
       "    .dataframe thead th {\n",
       "        text-align: right;\n",
       "    }\n",
       "</style>\n",
       "<table border=\"1\" class=\"dataframe\">\n",
       "  <thead>\n",
       "    <tr style=\"text-align: right;\">\n",
       "      <th></th>\n",
       "      <th>Endereço</th>\n",
       "      <th>Sigla_Sub</th>\n",
       "      <th>Subprefeitura</th>\n",
       "      <th>Lote</th>\n",
       "      <th>Contratada</th>\n",
       "      <th>Volume</th>\n",
       "      <th>Lat</th>\n",
       "      <th>Long</th>\n",
       "      <th>Volume_int</th>\n",
       "      <th>Quadrimestre</th>\n",
       "      <th>Ano</th>\n",
       "    </tr>\n",
       "  </thead>\n",
       "  <tbody>\n",
       "    <tr>\n",
       "      <th>0</th>\n",
       "      <td>RUA GUILHERME MAINARD,243</td>\n",
       "      <td>CL</td>\n",
       "      <td>CAMPO LIMPO</td>\n",
       "      <td>6.0</td>\n",
       "      <td>SUSTENTARE</td>\n",
       "      <td>Menor que 1 m³</td>\n",
       "      <td>-23.62515</td>\n",
       "      <td>-46.76244</td>\n",
       "      <td>1.0</td>\n",
       "      <td>1</td>\n",
       "      <td>2019</td>\n",
       "    </tr>\n",
       "    <tr>\n",
       "      <th>1</th>\n",
       "      <td>RUA HENRIQUE SAM MIDLIN,654</td>\n",
       "      <td>CL</td>\n",
       "      <td>CAMPO LIMPO</td>\n",
       "      <td>6.0</td>\n",
       "      <td>SUSTENTARE</td>\n",
       "      <td>Menor que 1 m³</td>\n",
       "      <td>-23.678828</td>\n",
       "      <td>-46.78069</td>\n",
       "      <td>1.0</td>\n",
       "      <td>1</td>\n",
       "      <td>2019</td>\n",
       "    </tr>\n",
       "    <tr>\n",
       "      <th>2</th>\n",
       "      <td>RUA INACIO MANUEL TOURINHO,744</td>\n",
       "      <td>CL</td>\n",
       "      <td>CAMPO LIMPO</td>\n",
       "      <td>6.0</td>\n",
       "      <td>SUSTENTARE</td>\n",
       "      <td>Menor que 1 m³</td>\n",
       "      <td>-23.631124</td>\n",
       "      <td>-46.752098</td>\n",
       "      <td>1.0</td>\n",
       "      <td>1</td>\n",
       "      <td>2019</td>\n",
       "    </tr>\n",
       "    <tr>\n",
       "      <th>3</th>\n",
       "      <td>RUA INTEGRADA,126</td>\n",
       "      <td>CL</td>\n",
       "      <td>CAMPO LIMPO</td>\n",
       "      <td>6.0</td>\n",
       "      <td>SUSTENTARE</td>\n",
       "      <td>Menor que 1 m³</td>\n",
       "      <td>-23.665131</td>\n",
       "      <td>-46.777485</td>\n",
       "      <td>1.0</td>\n",
       "      <td>1</td>\n",
       "      <td>2019</td>\n",
       "    </tr>\n",
       "    <tr>\n",
       "      <th>4</th>\n",
       "      <td>RUA INTEGRADA,35</td>\n",
       "      <td>CL</td>\n",
       "      <td>CAMPO LIMPO</td>\n",
       "      <td>6.0</td>\n",
       "      <td>SUSTENTARE</td>\n",
       "      <td>Menor que 1 m³</td>\n",
       "      <td>-23.664908</td>\n",
       "      <td>-46.780861</td>\n",
       "      <td>1.0</td>\n",
       "      <td>1</td>\n",
       "      <td>2019</td>\n",
       "    </tr>\n",
       "    <tr>\n",
       "      <th>...</th>\n",
       "      <td>...</td>\n",
       "      <td>...</td>\n",
       "      <td>...</td>\n",
       "      <td>...</td>\n",
       "      <td>...</td>\n",
       "      <td>...</td>\n",
       "      <td>...</td>\n",
       "      <td>...</td>\n",
       "      <td>...</td>\n",
       "      <td>...</td>\n",
       "      <td>...</td>\n",
       "    </tr>\n",
       "    <tr>\n",
       "      <th>14478</th>\n",
       "      <td>Rua Enesto Rothschild</td>\n",
       "      <td>SA</td>\n",
       "      <td>Santo Amaro</td>\n",
       "      <td>6.0</td>\n",
       "      <td>EcoSampa</td>\n",
       "      <td>Menor que 1m³</td>\n",
       "      <td>-23.677531</td>\n",
       "      <td>-46.678865</td>\n",
       "      <td>1.0</td>\n",
       "      <td>1</td>\n",
       "      <td>2021</td>\n",
       "    </tr>\n",
       "    <tr>\n",
       "      <th>14479</th>\n",
       "      <td>Rua Luis Correia de Mello com Rua Bragança Pau...</td>\n",
       "      <td>SA</td>\n",
       "      <td>Santo Amaro</td>\n",
       "      <td>6.0</td>\n",
       "      <td>EcoSampa</td>\n",
       "      <td>Menor que 1m³</td>\n",
       "      <td>-23.634478</td>\n",
       "      <td>-46.714604</td>\n",
       "      <td>1.0</td>\n",
       "      <td>1</td>\n",
       "      <td>2021</td>\n",
       "    </tr>\n",
       "    <tr>\n",
       "      <th>14480</th>\n",
       "      <td>Rua Manoel Antônio da Luz c/ Rua Iguatinga</td>\n",
       "      <td>SA</td>\n",
       "      <td>Santo Amaro</td>\n",
       "      <td>6.0</td>\n",
       "      <td>EcoSampa</td>\n",
       "      <td>Menor que 1m³</td>\n",
       "      <td>-23.657803</td>\n",
       "      <td>-46.70404</td>\n",
       "      <td>1.0</td>\n",
       "      <td>1</td>\n",
       "      <td>2021</td>\n",
       "    </tr>\n",
       "    <tr>\n",
       "      <th>14481</th>\n",
       "      <td>Rua Manoel vaz</td>\n",
       "      <td>SA</td>\n",
       "      <td>Santo Amaro</td>\n",
       "      <td>6.0</td>\n",
       "      <td>EcoSampa</td>\n",
       "      <td>Menor que 1m³</td>\n",
       "      <td>-23.670696</td>\n",
       "      <td>-46.67539</td>\n",
       "      <td>1.0</td>\n",
       "      <td>1</td>\n",
       "      <td>2021</td>\n",
       "    </tr>\n",
       "    <tr>\n",
       "      <th>14482</th>\n",
       "      <td>Rua Pereira Barreto</td>\n",
       "      <td>SA</td>\n",
       "      <td>Santo Amaro</td>\n",
       "      <td>6.0</td>\n",
       "      <td>EcoSampa</td>\n",
       "      <td>Menor que 1m³</td>\n",
       "      <td>-23.656249</td>\n",
       "      <td>-46.703518</td>\n",
       "      <td>1.0</td>\n",
       "      <td>1</td>\n",
       "      <td>2021</td>\n",
       "    </tr>\n",
       "  </tbody>\n",
       "</table>\n",
       "<p>14483 rows × 11 columns</p>\n",
       "</div>"
      ],
      "text/plain": [
       "                                                Endereço Sigla_Sub  \\\n",
       "0                              RUA GUILHERME MAINARD,243        CL   \n",
       "1                            RUA HENRIQUE SAM MIDLIN,654        CL   \n",
       "2                         RUA INACIO MANUEL TOURINHO,744        CL   \n",
       "3                                      RUA INTEGRADA,126        CL   \n",
       "4                                       RUA INTEGRADA,35        CL   \n",
       "...                                                  ...       ...   \n",
       "14478                              Rua Enesto Rothschild        SA   \n",
       "14479  Rua Luis Correia de Mello com Rua Bragança Pau...        SA   \n",
       "14480         Rua Manoel Antônio da Luz c/ Rua Iguatinga        SA   \n",
       "14481                                     Rua Manoel vaz        SA   \n",
       "14482                                Rua Pereira Barreto        SA   \n",
       "\n",
       "      Subprefeitura  Lote  Contratada          Volume        Lat       Long  \\\n",
       "0       CAMPO LIMPO   6.0  SUSTENTARE  Menor que 1 m³  -23.62515  -46.76244   \n",
       "1       CAMPO LIMPO   6.0  SUSTENTARE  Menor que 1 m³ -23.678828  -46.78069   \n",
       "2       CAMPO LIMPO   6.0  SUSTENTARE  Menor que 1 m³ -23.631124 -46.752098   \n",
       "3       CAMPO LIMPO   6.0  SUSTENTARE  Menor que 1 m³ -23.665131 -46.777485   \n",
       "4       CAMPO LIMPO   6.0  SUSTENTARE  Menor que 1 m³ -23.664908 -46.780861   \n",
       "...             ...   ...         ...             ...        ...        ...   \n",
       "14478   Santo Amaro   6.0    EcoSampa   Menor que 1m³ -23.677531 -46.678865   \n",
       "14479   Santo Amaro   6.0    EcoSampa   Menor que 1m³ -23.634478 -46.714604   \n",
       "14480   Santo Amaro   6.0    EcoSampa   Menor que 1m³ -23.657803  -46.70404   \n",
       "14481   Santo Amaro   6.0    EcoSampa   Menor que 1m³ -23.670696  -46.67539   \n",
       "14482   Santo Amaro   6.0    EcoSampa   Menor que 1m³ -23.656249 -46.703518   \n",
       "\n",
       "       Volume_int  Quadrimestre   Ano  \n",
       "0             1.0             1  2019  \n",
       "1             1.0             1  2019  \n",
       "2             1.0             1  2019  \n",
       "3             1.0             1  2019  \n",
       "4             1.0             1  2019  \n",
       "...           ...           ...   ...  \n",
       "14478         1.0             1  2021  \n",
       "14479         1.0             1  2021  \n",
       "14480         1.0             1  2021  \n",
       "14481         1.0             1  2021  \n",
       "14482         1.0             1  2021  \n",
       "\n",
       "[14483 rows x 11 columns]"
      ]
     },
     "execution_count": 87,
     "metadata": {},
     "output_type": "execute_result"
    }
   ],
   "source": [
    "import pandas as pd\n",
    "\n",
    "df = pd.read_excel('planilha_tratada.xlsx')\n",
    "df"
   ]
  },
  {
   "cell_type": "code",
   "execution_count": 88,
   "metadata": {},
   "outputs": [
    {
     "data": {
      "text/plain": [
       "Lat\n",
       "False    14481\n",
       "Name: count, dtype: int64"
      ]
     },
     "execution_count": 88,
     "metadata": {},
     "output_type": "execute_result"
    }
   ],
   "source": [
    "df = df.dropna(subset='Lat')\n",
    "\n",
    "df['Lat'].isna().value_counts()"
   ]
  },
  {
   "cell_type": "code",
   "execution_count": 89,
   "metadata": {},
   "outputs": [
    {
     "data": {
      "text/plain": [
       "Long\n",
       "False    14480\n",
       "Name: count, dtype: int64"
      ]
     },
     "execution_count": 89,
     "metadata": {},
     "output_type": "execute_result"
    }
   ],
   "source": [
    "df = df.dropna(subset='Long')\n",
    "\n",
    "df['Long'].isna().value_counts()"
   ]
  },
  {
   "cell_type": "code",
   "execution_count": 90,
   "metadata": {},
   "outputs": [
    {
     "data": {
      "text/plain": [
       "0       -23.625150\n",
       "1       -23.678828\n",
       "2       -23.631124\n",
       "3       -23.665131\n",
       "4       -23.664908\n",
       "           ...    \n",
       "14478   -23.677531\n",
       "14479   -23.634478\n",
       "14480   -23.657803\n",
       "14481   -23.670696\n",
       "14482   -23.656249\n",
       "Name: Lat, Length: 14480, dtype: float64"
      ]
     },
     "execution_count": 90,
     "metadata": {},
     "output_type": "execute_result"
    }
   ],
   "source": [
    "df['Lat'] = df['Lat'].apply(str)\n",
    "df['Lat'] = df['Lat'].str.replace(',', '.')\n",
    "df['Lat'] = df['Lat'].apply(float)\n",
    "df['Lat']"
   ]
  },
  {
   "cell_type": "code",
   "execution_count": 91,
   "metadata": {},
   "outputs": [
    {
     "data": {
      "text/plain": [
       "0       -46.762440\n",
       "1       -46.780690\n",
       "2       -46.752098\n",
       "3       -46.777485\n",
       "4       -46.780861\n",
       "           ...    \n",
       "14478   -46.678865\n",
       "14479   -46.714604\n",
       "14480   -46.704040\n",
       "14481   -46.675390\n",
       "14482   -46.703518\n",
       "Name: Long, Length: 14480, dtype: float64"
      ]
     },
     "execution_count": 91,
     "metadata": {},
     "output_type": "execute_result"
    }
   ],
   "source": [
    "df['Long'] = df['Long'].apply(str)\n",
    "df['Long'] = df['Long'].str.replace('46-646508', '-46,646508').str.replace(',', '.')\n",
    "df['Long'] = df['Long'].apply(float)\n",
    "df['Long']"
   ]
  },
  {
   "cell_type": "code",
   "execution_count": 92,
   "metadata": {},
   "outputs": [],
   "source": [
    "df = df.dropna()"
   ]
  },
  {
   "cell_type": "code",
   "execution_count": 93,
   "metadata": {},
   "outputs": [],
   "source": [
    "df['Subprefeitura'] =  df['Subprefeitura'].str.upper()\n",
    "df['Contratada'] = df['Contratada'].str.upper()"
   ]
  },
  {
   "cell_type": "code",
   "execution_count": 94,
   "metadata": {},
   "outputs": [],
   "source": [
    "df['Subprefeitura'] = df['Subprefeitura'].str.strip().str.replace('M BOI MIRIM', \"M'BOI MIRIM\").str.replace(\"M'BOI IRIM\", \"M'BOI MIRIM\").str.replace('BUTANTA', 'BUTANTÃ').str.replace('JAÇANÃ / TREMEMBE', 'JAÇANÃ / TREMEMBÉ')"
   ]
  },
  {
   "cell_type": "code",
   "execution_count": 95,
   "metadata": {},
   "outputs": [
    {
     "data": {
      "text/plain": [
       "{'SÉ': np.int64(1822),\n",
       " 'SÃO MATEUS': np.int64(1458),\n",
       " 'ITAIM PAULISTA': np.int64(1174),\n",
       " 'MOOCA': np.int64(971),\n",
       " 'PIRITUBA': np.int64(723),\n",
       " 'PIRITUBA-JARAGUA': np.int64(612),\n",
       " 'SÃO MIGUEL PAULISTA': np.int64(564),\n",
       " 'IPIRANGA': np.int64(457),\n",
       " 'CASA VERDE': np.int64(396),\n",
       " 'CIDADE TIRADENTES': np.int64(391),\n",
       " 'V. MARIA / V. GUILHERME': np.int64(377),\n",
       " 'PENHA': np.int64(377),\n",
       " 'GUAIANASES': np.int64(345),\n",
       " 'SANTO AMARO': np.int64(323),\n",
       " 'ITAQUERA': np.int64(306),\n",
       " 'VILA MARIANA': np.int64(301),\n",
       " 'BUTANTÃ': np.int64(290),\n",
       " 'JABAQUARA': np.int64(257),\n",
       " 'CIDADE ADEMAR': np.int64(245),\n",
       " \"M'BOI MIRIM\": np.int64(238),\n",
       " 'FREGUESIA DO Ó': np.int64(227),\n",
       " 'SAPOPEMBA': np.int64(224),\n",
       " 'PIRITUBA/JARAGUA': np.int64(221),\n",
       " 'ERMELINO MATARAZZO': np.int64(221),\n",
       " 'PERUS': np.int64(208),\n",
       " 'VILA PRUDENTE': np.int64(193),\n",
       " 'LAPA': np.int64(191),\n",
       " 'CAMPO LIMPO': np.int64(180),\n",
       " 'ARICANDUVA / VILA FORMOSA': np.int64(175),\n",
       " 'PINHEIROS': np.int64(169),\n",
       " 'CAPELA DO SOCORRO': np.int64(99),\n",
       " 'PARELHEIROS': np.int64(77),\n",
       " 'ARICANDUVA/FORMOSA/CARRÃO': np.int64(55),\n",
       " 'SANTANA / TUCURUVI': np.int64(42),\n",
       " 'ARICANDUVA/FORMOSA': np.int64(35),\n",
       " 'JAÇANÃ / TREMEMBÉ': np.int64(22)}"
      ]
     },
     "execution_count": 95,
     "metadata": {},
     "output_type": "execute_result"
    }
   ],
   "source": [
    "dic_subprefeitura_count = dict(df['Subprefeitura'].value_counts())\n",
    "subprefeitura_com_mais_pontos = dic_subprefeitura_count\n",
    "total_de_casos = 0\n",
    "\n",
    "for chave, valor in dic_subprefeitura_count.items():\n",
    "    total_de_casos += valor\n",
    "\n",
    "dic_subprefeitura_count"
   ]
  },
  {
   "cell_type": "code",
   "execution_count": 97,
   "metadata": {},
   "outputs": [
    {
     "data": {
      "text/plain": [
       "np.float64(0.15752541887440927)"
      ]
     },
     "execution_count": 97,
     "metadata": {},
     "output_type": "execute_result"
    }
   ],
   "source": [
    "dic_subprefeitura_count['JAÇANÃ / TREMEMBÉ'] / total_de_casos * 100"
   ]
  },
  {
   "cell_type": "code",
   "execution_count": 102,
   "metadata": {},
   "outputs": [
    {
     "data": {
      "text/plain": [
       "{'CORPUS': np.int64(3892),\n",
       " 'SUSTENTARE': np.int64(2560),\n",
       " 'ECOSS': np.int64(2015),\n",
       " 'LIMPA SP': np.int64(1109),\n",
       " 'SOMA': np.int64(1091),\n",
       " 'INOVA': np.int64(859),\n",
       " 'LOCAT SP': np.int64(841),\n",
       " 'LOCATSP': np.int64(577),\n",
       " 'ECOSAMPA': np.int64(501),\n",
       " 'TREVO': np.int64(332),\n",
       " 'CONSÓRCIO SCK': np.int64(189)}"
      ]
     },
     "execution_count": 102,
     "metadata": {},
     "output_type": "execute_result"
    }
   ],
   "source": [
    "dic_empresas_count = dict(df['Contratada'].value_counts())\n",
    "total_de_casos_empresas = 0\n",
    "\n",
    "for chave, valor in dic_empresas_count.items():\n",
    "    total_de_casos_empresas += valor\n",
    "\n",
    "dic_empresas_count"
   ]
  },
  {
   "cell_type": "code",
   "execution_count": 103,
   "metadata": {},
   "outputs": [
    {
     "data": {
      "text/plain": [
       "np.int64(13966)"
      ]
     },
     "execution_count": 103,
     "metadata": {},
     "output_type": "execute_result"
    }
   ],
   "source": [
    "## CASOS REVITALIZADOS"
   ]
  },
  {
   "cell_type": "code",
   "execution_count": null,
   "metadata": {},
   "outputs": [
    {
     "ename": "PermissionError",
     "evalue": "[Errno 13] Permission denied: 'planilha_tratada_oficial.xlsx'",
     "output_type": "error",
     "traceback": [
      "\u001b[31m---------------------------------------------------------------------------\u001b[39m",
      "\u001b[31mPermissionError\u001b[39m                           Traceback (most recent call last)",
      "\u001b[36mCell\u001b[39m\u001b[36m \u001b[39m\u001b[32mIn[85]\u001b[39m\u001b[32m, line 1\u001b[39m\n\u001b[32m----> \u001b[39m\u001b[32m1\u001b[39m \u001b[43mdf\u001b[49m\u001b[43m.\u001b[49m\u001b[43mto_excel\u001b[49m\u001b[43m(\u001b[49m\u001b[33;43m'\u001b[39;49m\u001b[33;43mplanilha_tratada_oficial.xlsx\u001b[39;49m\u001b[33;43m'\u001b[39;49m\u001b[43m,\u001b[49m\u001b[43m \u001b[49m\u001b[43mindex\u001b[49m\u001b[43m=\u001b[49m\u001b[32;43m0\u001b[39;49m\u001b[43m)\u001b[49m\n",
      "\u001b[36mFile \u001b[39m\u001b[32m~\\AppData\\Roaming\\Python\\Python312\\site-packages\\pandas\\util\\_decorators.py:333\u001b[39m, in \u001b[36mdeprecate_nonkeyword_arguments.<locals>.decorate.<locals>.wrapper\u001b[39m\u001b[34m(*args, **kwargs)\u001b[39m\n\u001b[32m    327\u001b[39m \u001b[38;5;28;01mif\u001b[39;00m \u001b[38;5;28mlen\u001b[39m(args) > num_allow_args:\n\u001b[32m    328\u001b[39m     warnings.warn(\n\u001b[32m    329\u001b[39m         msg.format(arguments=_format_argument_list(allow_args)),\n\u001b[32m    330\u001b[39m         \u001b[38;5;167;01mFutureWarning\u001b[39;00m,\n\u001b[32m    331\u001b[39m         stacklevel=find_stack_level(),\n\u001b[32m    332\u001b[39m     )\n\u001b[32m--> \u001b[39m\u001b[32m333\u001b[39m \u001b[38;5;28;01mreturn\u001b[39;00m \u001b[43mfunc\u001b[49m\u001b[43m(\u001b[49m\u001b[43m*\u001b[49m\u001b[43margs\u001b[49m\u001b[43m,\u001b[49m\u001b[43m \u001b[49m\u001b[43m*\u001b[49m\u001b[43m*\u001b[49m\u001b[43mkwargs\u001b[49m\u001b[43m)\u001b[49m\n",
      "\u001b[36mFile \u001b[39m\u001b[32m~\\AppData\\Roaming\\Python\\Python312\\site-packages\\pandas\\core\\generic.py:2417\u001b[39m, in \u001b[36mNDFrame.to_excel\u001b[39m\u001b[34m(self, excel_writer, sheet_name, na_rep, float_format, columns, header, index, index_label, startrow, startcol, engine, merge_cells, inf_rep, freeze_panes, storage_options, engine_kwargs)\u001b[39m\n\u001b[32m   2404\u001b[39m \u001b[38;5;28;01mfrom\u001b[39;00m\u001b[38;5;250m \u001b[39m\u001b[34;01mpandas\u001b[39;00m\u001b[34;01m.\u001b[39;00m\u001b[34;01mio\u001b[39;00m\u001b[34;01m.\u001b[39;00m\u001b[34;01mformats\u001b[39;00m\u001b[34;01m.\u001b[39;00m\u001b[34;01mexcel\u001b[39;00m\u001b[38;5;250m \u001b[39m\u001b[38;5;28;01mimport\u001b[39;00m ExcelFormatter\n\u001b[32m   2406\u001b[39m formatter = ExcelFormatter(\n\u001b[32m   2407\u001b[39m     df,\n\u001b[32m   2408\u001b[39m     na_rep=na_rep,\n\u001b[32m   (...)\u001b[39m\u001b[32m   2415\u001b[39m     inf_rep=inf_rep,\n\u001b[32m   2416\u001b[39m )\n\u001b[32m-> \u001b[39m\u001b[32m2417\u001b[39m \u001b[43mformatter\u001b[49m\u001b[43m.\u001b[49m\u001b[43mwrite\u001b[49m\u001b[43m(\u001b[49m\n\u001b[32m   2418\u001b[39m \u001b[43m    \u001b[49m\u001b[43mexcel_writer\u001b[49m\u001b[43m,\u001b[49m\n\u001b[32m   2419\u001b[39m \u001b[43m    \u001b[49m\u001b[43msheet_name\u001b[49m\u001b[43m=\u001b[49m\u001b[43msheet_name\u001b[49m\u001b[43m,\u001b[49m\n\u001b[32m   2420\u001b[39m \u001b[43m    \u001b[49m\u001b[43mstartrow\u001b[49m\u001b[43m=\u001b[49m\u001b[43mstartrow\u001b[49m\u001b[43m,\u001b[49m\n\u001b[32m   2421\u001b[39m \u001b[43m    \u001b[49m\u001b[43mstartcol\u001b[49m\u001b[43m=\u001b[49m\u001b[43mstartcol\u001b[49m\u001b[43m,\u001b[49m\n\u001b[32m   2422\u001b[39m \u001b[43m    \u001b[49m\u001b[43mfreeze_panes\u001b[49m\u001b[43m=\u001b[49m\u001b[43mfreeze_panes\u001b[49m\u001b[43m,\u001b[49m\n\u001b[32m   2423\u001b[39m \u001b[43m    \u001b[49m\u001b[43mengine\u001b[49m\u001b[43m=\u001b[49m\u001b[43mengine\u001b[49m\u001b[43m,\u001b[49m\n\u001b[32m   2424\u001b[39m \u001b[43m    \u001b[49m\u001b[43mstorage_options\u001b[49m\u001b[43m=\u001b[49m\u001b[43mstorage_options\u001b[49m\u001b[43m,\u001b[49m\n\u001b[32m   2425\u001b[39m \u001b[43m    \u001b[49m\u001b[43mengine_kwargs\u001b[49m\u001b[43m=\u001b[49m\u001b[43mengine_kwargs\u001b[49m\u001b[43m,\u001b[49m\n\u001b[32m   2426\u001b[39m \u001b[43m\u001b[49m\u001b[43m)\u001b[49m\n",
      "\u001b[36mFile \u001b[39m\u001b[32m~\\AppData\\Roaming\\Python\\Python312\\site-packages\\pandas\\io\\formats\\excel.py:943\u001b[39m, in \u001b[36mExcelFormatter.write\u001b[39m\u001b[34m(self, writer, sheet_name, startrow, startcol, freeze_panes, engine, storage_options, engine_kwargs)\u001b[39m\n\u001b[32m    941\u001b[39m     need_save = \u001b[38;5;28;01mFalse\u001b[39;00m\n\u001b[32m    942\u001b[39m \u001b[38;5;28;01melse\u001b[39;00m:\n\u001b[32m--> \u001b[39m\u001b[32m943\u001b[39m     writer = \u001b[43mExcelWriter\u001b[49m\u001b[43m(\u001b[49m\n\u001b[32m    944\u001b[39m \u001b[43m        \u001b[49m\u001b[43mwriter\u001b[49m\u001b[43m,\u001b[49m\n\u001b[32m    945\u001b[39m \u001b[43m        \u001b[49m\u001b[43mengine\u001b[49m\u001b[43m=\u001b[49m\u001b[43mengine\u001b[49m\u001b[43m,\u001b[49m\n\u001b[32m    946\u001b[39m \u001b[43m        \u001b[49m\u001b[43mstorage_options\u001b[49m\u001b[43m=\u001b[49m\u001b[43mstorage_options\u001b[49m\u001b[43m,\u001b[49m\n\u001b[32m    947\u001b[39m \u001b[43m        \u001b[49m\u001b[43mengine_kwargs\u001b[49m\u001b[43m=\u001b[49m\u001b[43mengine_kwargs\u001b[49m\u001b[43m,\u001b[49m\n\u001b[32m    948\u001b[39m \u001b[43m    \u001b[49m\u001b[43m)\u001b[49m\n\u001b[32m    949\u001b[39m     need_save = \u001b[38;5;28;01mTrue\u001b[39;00m\n\u001b[32m    951\u001b[39m \u001b[38;5;28;01mtry\u001b[39;00m:\n",
      "\u001b[36mFile \u001b[39m\u001b[32m~\\AppData\\Roaming\\Python\\Python312\\site-packages\\pandas\\io\\excel\\_openpyxl.py:61\u001b[39m, in \u001b[36mOpenpyxlWriter.__init__\u001b[39m\u001b[34m(self, path, engine, date_format, datetime_format, mode, storage_options, if_sheet_exists, engine_kwargs, **kwargs)\u001b[39m\n\u001b[32m     57\u001b[39m \u001b[38;5;28;01mfrom\u001b[39;00m\u001b[38;5;250m \u001b[39m\u001b[34;01mopenpyxl\u001b[39;00m\u001b[34;01m.\u001b[39;00m\u001b[34;01mworkbook\u001b[39;00m\u001b[38;5;250m \u001b[39m\u001b[38;5;28;01mimport\u001b[39;00m Workbook\n\u001b[32m     59\u001b[39m engine_kwargs = combine_kwargs(engine_kwargs, kwargs)\n\u001b[32m---> \u001b[39m\u001b[32m61\u001b[39m \u001b[38;5;28;43msuper\u001b[39;49m\u001b[43m(\u001b[49m\u001b[43m)\u001b[49m\u001b[43m.\u001b[49m\u001b[34;43m__init__\u001b[39;49m\u001b[43m(\u001b[49m\n\u001b[32m     62\u001b[39m \u001b[43m    \u001b[49m\u001b[43mpath\u001b[49m\u001b[43m,\u001b[49m\n\u001b[32m     63\u001b[39m \u001b[43m    \u001b[49m\u001b[43mmode\u001b[49m\u001b[43m=\u001b[49m\u001b[43mmode\u001b[49m\u001b[43m,\u001b[49m\n\u001b[32m     64\u001b[39m \u001b[43m    \u001b[49m\u001b[43mstorage_options\u001b[49m\u001b[43m=\u001b[49m\u001b[43mstorage_options\u001b[49m\u001b[43m,\u001b[49m\n\u001b[32m     65\u001b[39m \u001b[43m    \u001b[49m\u001b[43mif_sheet_exists\u001b[49m\u001b[43m=\u001b[49m\u001b[43mif_sheet_exists\u001b[49m\u001b[43m,\u001b[49m\n\u001b[32m     66\u001b[39m \u001b[43m    \u001b[49m\u001b[43mengine_kwargs\u001b[49m\u001b[43m=\u001b[49m\u001b[43mengine_kwargs\u001b[49m\u001b[43m,\u001b[49m\n\u001b[32m     67\u001b[39m \u001b[43m\u001b[49m\u001b[43m)\u001b[49m\n\u001b[32m     69\u001b[39m \u001b[38;5;66;03m# ExcelWriter replaced \"a\" by \"r+\" to allow us to first read the excel file from\u001b[39;00m\n\u001b[32m     70\u001b[39m \u001b[38;5;66;03m# the file and later write to it\u001b[39;00m\n\u001b[32m     71\u001b[39m \u001b[38;5;28;01mif\u001b[39;00m \u001b[33m\"\u001b[39m\u001b[33mr+\u001b[39m\u001b[33m\"\u001b[39m \u001b[38;5;129;01min\u001b[39;00m \u001b[38;5;28mself\u001b[39m._mode:  \u001b[38;5;66;03m# Load from existing workbook\u001b[39;00m\n",
      "\u001b[36mFile \u001b[39m\u001b[32m~\\AppData\\Roaming\\Python\\Python312\\site-packages\\pandas\\io\\excel\\_base.py:1246\u001b[39m, in \u001b[36mExcelWriter.__init__\u001b[39m\u001b[34m(self, path, engine, date_format, datetime_format, mode, storage_options, if_sheet_exists, engine_kwargs)\u001b[39m\n\u001b[32m   1242\u001b[39m \u001b[38;5;28mself\u001b[39m._handles = IOHandles(\n\u001b[32m   1243\u001b[39m     cast(IO[\u001b[38;5;28mbytes\u001b[39m], path), compression={\u001b[33m\"\u001b[39m\u001b[33mcompression\u001b[39m\u001b[33m\"\u001b[39m: \u001b[38;5;28;01mNone\u001b[39;00m}\n\u001b[32m   1244\u001b[39m )\n\u001b[32m   1245\u001b[39m \u001b[38;5;28;01mif\u001b[39;00m \u001b[38;5;129;01mnot\u001b[39;00m \u001b[38;5;28misinstance\u001b[39m(path, ExcelWriter):\n\u001b[32m-> \u001b[39m\u001b[32m1246\u001b[39m     \u001b[38;5;28mself\u001b[39m._handles = \u001b[43mget_handle\u001b[49m\u001b[43m(\u001b[49m\n\u001b[32m   1247\u001b[39m \u001b[43m        \u001b[49m\u001b[43mpath\u001b[49m\u001b[43m,\u001b[49m\u001b[43m \u001b[49m\u001b[43mmode\u001b[49m\u001b[43m,\u001b[49m\u001b[43m \u001b[49m\u001b[43mstorage_options\u001b[49m\u001b[43m=\u001b[49m\u001b[43mstorage_options\u001b[49m\u001b[43m,\u001b[49m\u001b[43m \u001b[49m\u001b[43mis_text\u001b[49m\u001b[43m=\u001b[49m\u001b[38;5;28;43;01mFalse\u001b[39;49;00m\n\u001b[32m   1248\u001b[39m \u001b[43m    \u001b[49m\u001b[43m)\u001b[49m\n\u001b[32m   1249\u001b[39m \u001b[38;5;28mself\u001b[39m._cur_sheet = \u001b[38;5;28;01mNone\u001b[39;00m\n\u001b[32m   1251\u001b[39m \u001b[38;5;28;01mif\u001b[39;00m date_format \u001b[38;5;129;01mis\u001b[39;00m \u001b[38;5;28;01mNone\u001b[39;00m:\n",
      "\u001b[36mFile \u001b[39m\u001b[32m~\\AppData\\Roaming\\Python\\Python312\\site-packages\\pandas\\io\\common.py:882\u001b[39m, in \u001b[36mget_handle\u001b[39m\u001b[34m(path_or_buf, mode, encoding, compression, memory_map, is_text, errors, storage_options)\u001b[39m\n\u001b[32m    873\u001b[39m         handle = \u001b[38;5;28mopen\u001b[39m(\n\u001b[32m    874\u001b[39m             handle,\n\u001b[32m    875\u001b[39m             ioargs.mode,\n\u001b[32m   (...)\u001b[39m\u001b[32m    878\u001b[39m             newline=\u001b[33m\"\u001b[39m\u001b[33m\"\u001b[39m,\n\u001b[32m    879\u001b[39m         )\n\u001b[32m    880\u001b[39m     \u001b[38;5;28;01melse\u001b[39;00m:\n\u001b[32m    881\u001b[39m         \u001b[38;5;66;03m# Binary mode\u001b[39;00m\n\u001b[32m--> \u001b[39m\u001b[32m882\u001b[39m         handle = \u001b[38;5;28;43mopen\u001b[39;49m\u001b[43m(\u001b[49m\u001b[43mhandle\u001b[49m\u001b[43m,\u001b[49m\u001b[43m \u001b[49m\u001b[43mioargs\u001b[49m\u001b[43m.\u001b[49m\u001b[43mmode\u001b[49m\u001b[43m)\u001b[49m\n\u001b[32m    883\u001b[39m     handles.append(handle)\n\u001b[32m    885\u001b[39m \u001b[38;5;66;03m# Convert BytesIO or file objects passed with an encoding\u001b[39;00m\n",
      "\u001b[31mPermissionError\u001b[39m: [Errno 13] Permission denied: 'planilha_tratada_oficial.xlsx'"
     ]
    }
   ],
   "source": [
    "df.to_excel('planilha_tratada_oficial.xlsx', index=0)"
   ]
  },
  {
   "cell_type": "code",
   "execution_count": null,
   "metadata": {},
   "outputs": [],
   "source": []
  }
 ],
 "metadata": {
  "kernelspec": {
   "display_name": "Python 3",
   "language": "python",
   "name": "python3"
  },
  "language_info": {
   "codemirror_mode": {
    "name": "ipython",
    "version": 3
   },
   "file_extension": ".py",
   "mimetype": "text/x-python",
   "name": "python",
   "nbconvert_exporter": "python",
   "pygments_lexer": "ipython3",
   "version": "3.12.1"
  }
 },
 "nbformat": 4,
 "nbformat_minor": 2
}

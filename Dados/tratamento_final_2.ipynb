{
 "cells": [
  {
   "cell_type": "code",
   "execution_count": 87,
   "metadata": {},
   "outputs": [
    {
     "data": {
      "text/html": [
       "<div>\n",
       "<style scoped>\n",
       "    .dataframe tbody tr th:only-of-type {\n",
       "        vertical-align: middle;\n",
       "    }\n",
       "\n",
       "    .dataframe tbody tr th {\n",
       "        vertical-align: top;\n",
       "    }\n",
       "\n",
       "    .dataframe thead th {\n",
       "        text-align: right;\n",
       "    }\n",
       "</style>\n",
       "<table border=\"1\" class=\"dataframe\">\n",
       "  <thead>\n",
       "    <tr style=\"text-align: right;\">\n",
       "      <th></th>\n",
       "      <th>Endereço</th>\n",
       "      <th>Sigla_Sub</th>\n",
       "      <th>Subprefeitura</th>\n",
       "      <th>Lote</th>\n",
       "      <th>Contratada</th>\n",
       "      <th>Volume</th>\n",
       "      <th>Lat</th>\n",
       "      <th>Long</th>\n",
       "      <th>Volume_int</th>\n",
       "      <th>Quadrimestre</th>\n",
       "      <th>Ano</th>\n",
       "    </tr>\n",
       "  </thead>\n",
       "  <tbody>\n",
       "    <tr>\n",
       "      <th>0</th>\n",
       "      <td>RUA GUILHERME MAINARD,243</td>\n",
       "      <td>CL</td>\n",
       "      <td>CAMPO LIMPO</td>\n",
       "      <td>6.0</td>\n",
       "      <td>SUSTENTARE</td>\n",
       "      <td>Menor que 1 m³</td>\n",
       "      <td>-23.62515</td>\n",
       "      <td>-46.76244</td>\n",
       "      <td>1.0</td>\n",
       "      <td>1</td>\n",
       "      <td>2019</td>\n",
       "    </tr>\n",
       "    <tr>\n",
       "      <th>1</th>\n",
       "      <td>RUA HENRIQUE SAM MIDLIN,654</td>\n",
       "      <td>CL</td>\n",
       "      <td>CAMPO LIMPO</td>\n",
       "      <td>6.0</td>\n",
       "      <td>SUSTENTARE</td>\n",
       "      <td>Menor que 1 m³</td>\n",
       "      <td>-23.678828</td>\n",
       "      <td>-46.78069</td>\n",
       "      <td>1.0</td>\n",
       "      <td>1</td>\n",
       "      <td>2019</td>\n",
       "    </tr>\n",
       "    <tr>\n",
       "      <th>2</th>\n",
       "      <td>RUA INACIO MANUEL TOURINHO,744</td>\n",
       "      <td>CL</td>\n",
       "      <td>CAMPO LIMPO</td>\n",
       "      <td>6.0</td>\n",
       "      <td>SUSTENTARE</td>\n",
       "      <td>Menor que 1 m³</td>\n",
       "      <td>-23.631124</td>\n",
       "      <td>-46.752098</td>\n",
       "      <td>1.0</td>\n",
       "      <td>1</td>\n",
       "      <td>2019</td>\n",
       "    </tr>\n",
       "    <tr>\n",
       "      <th>3</th>\n",
       "      <td>RUA INTEGRADA,126</td>\n",
       "      <td>CL</td>\n",
       "      <td>CAMPO LIMPO</td>\n",
       "      <td>6.0</td>\n",
       "      <td>SUSTENTARE</td>\n",
       "      <td>Menor que 1 m³</td>\n",
       "      <td>-23.665131</td>\n",
       "      <td>-46.777485</td>\n",
       "      <td>1.0</td>\n",
       "      <td>1</td>\n",
       "      <td>2019</td>\n",
       "    </tr>\n",
       "    <tr>\n",
       "      <th>4</th>\n",
       "      <td>RUA INTEGRADA,35</td>\n",
       "      <td>CL</td>\n",
       "      <td>CAMPO LIMPO</td>\n",
       "      <td>6.0</td>\n",
       "      <td>SUSTENTARE</td>\n",
       "      <td>Menor que 1 m³</td>\n",
       "      <td>-23.664908</td>\n",
       "      <td>-46.780861</td>\n",
       "      <td>1.0</td>\n",
       "      <td>1</td>\n",
       "      <td>2019</td>\n",
       "    </tr>\n",
       "    <tr>\n",
       "      <th>...</th>\n",
       "      <td>...</td>\n",
       "      <td>...</td>\n",
       "      <td>...</td>\n",
       "      <td>...</td>\n",
       "      <td>...</td>\n",
       "      <td>...</td>\n",
       "      <td>...</td>\n",
       "      <td>...</td>\n",
       "      <td>...</td>\n",
       "      <td>...</td>\n",
       "      <td>...</td>\n",
       "    </tr>\n",
       "    <tr>\n",
       "      <th>14478</th>\n",
       "      <td>Rua Enesto Rothschild</td>\n",
       "      <td>SA</td>\n",
       "      <td>Santo Amaro</td>\n",
       "      <td>6.0</td>\n",
       "      <td>EcoSampa</td>\n",
       "      <td>Menor que 1m³</td>\n",
       "      <td>-23.677531</td>\n",
       "      <td>-46.678865</td>\n",
       "      <td>1.0</td>\n",
       "      <td>1</td>\n",
       "      <td>2021</td>\n",
       "    </tr>\n",
       "    <tr>\n",
       "      <th>14479</th>\n",
       "      <td>Rua Luis Correia de Mello com Rua Bragança Pau...</td>\n",
       "      <td>SA</td>\n",
       "      <td>Santo Amaro</td>\n",
       "      <td>6.0</td>\n",
       "      <td>EcoSampa</td>\n",
       "      <td>Menor que 1m³</td>\n",
       "      <td>-23.634478</td>\n",
       "      <td>-46.714604</td>\n",
       "      <td>1.0</td>\n",
       "      <td>1</td>\n",
       "      <td>2021</td>\n",
       "    </tr>\n",
       "    <tr>\n",
       "      <th>14480</th>\n",
       "      <td>Rua Manoel Antônio da Luz c/ Rua Iguatinga</td>\n",
       "      <td>SA</td>\n",
       "      <td>Santo Amaro</td>\n",
       "      <td>6.0</td>\n",
       "      <td>EcoSampa</td>\n",
       "      <td>Menor que 1m³</td>\n",
       "      <td>-23.657803</td>\n",
       "      <td>-46.70404</td>\n",
       "      <td>1.0</td>\n",
       "      <td>1</td>\n",
       "      <td>2021</td>\n",
       "    </tr>\n",
       "    <tr>\n",
       "      <th>14481</th>\n",
       "      <td>Rua Manoel vaz</td>\n",
       "      <td>SA</td>\n",
       "      <td>Santo Amaro</td>\n",
       "      <td>6.0</td>\n",
       "      <td>EcoSampa</td>\n",
       "      <td>Menor que 1m³</td>\n",
       "      <td>-23.670696</td>\n",
       "      <td>-46.67539</td>\n",
       "      <td>1.0</td>\n",
       "      <td>1</td>\n",
       "      <td>2021</td>\n",
       "    </tr>\n",
       "    <tr>\n",
       "      <th>14482</th>\n",
       "      <td>Rua Pereira Barreto</td>\n",
       "      <td>SA</td>\n",
       "      <td>Santo Amaro</td>\n",
       "      <td>6.0</td>\n",
       "      <td>EcoSampa</td>\n",
       "      <td>Menor que 1m³</td>\n",
       "      <td>-23.656249</td>\n",
       "      <td>-46.703518</td>\n",
       "      <td>1.0</td>\n",
       "      <td>1</td>\n",
       "      <td>2021</td>\n",
       "    </tr>\n",
       "  </tbody>\n",
       "</table>\n",
       "<p>14483 rows × 11 columns</p>\n",
       "</div>"
      ],
      "text/plain": [
       "                                                Endereço Sigla_Sub  \\\n",
       "0                              RUA GUILHERME MAINARD,243        CL   \n",
       "1                            RUA HENRIQUE SAM MIDLIN,654        CL   \n",
       "2                         RUA INACIO MANUEL TOURINHO,744        CL   \n",
       "3                                      RUA INTEGRADA,126        CL   \n",
       "4                                       RUA INTEGRADA,35        CL   \n",
       "...                                                  ...       ...   \n",
       "14478                              Rua Enesto Rothschild        SA   \n",
       "14479  Rua Luis Correia de Mello com Rua Bragança Pau...        SA   \n",
       "14480         Rua Manoel Antônio da Luz c/ Rua Iguatinga        SA   \n",
       "14481                                     Rua Manoel vaz        SA   \n",
       "14482                                Rua Pereira Barreto        SA   \n",
       "\n",
       "      Subprefeitura  Lote  Contratada          Volume        Lat       Long  \\\n",
       "0       CAMPO LIMPO   6.0  SUSTENTARE  Menor que 1 m³  -23.62515  -46.76244   \n",
       "1       CAMPO LIMPO   6.0  SUSTENTARE  Menor que 1 m³ -23.678828  -46.78069   \n",
       "2       CAMPO LIMPO   6.0  SUSTENTARE  Menor que 1 m³ -23.631124 -46.752098   \n",
       "3       CAMPO LIMPO   6.0  SUSTENTARE  Menor que 1 m³ -23.665131 -46.777485   \n",
       "4       CAMPO LIMPO   6.0  SUSTENTARE  Menor que 1 m³ -23.664908 -46.780861   \n",
       "...             ...   ...         ...             ...        ...        ...   \n",
       "14478   Santo Amaro   6.0    EcoSampa   Menor que 1m³ -23.677531 -46.678865   \n",
       "14479   Santo Amaro   6.0    EcoSampa   Menor que 1m³ -23.634478 -46.714604   \n",
       "14480   Santo Amaro   6.0    EcoSampa   Menor que 1m³ -23.657803  -46.70404   \n",
       "14481   Santo Amaro   6.0    EcoSampa   Menor que 1m³ -23.670696  -46.67539   \n",
       "14482   Santo Amaro   6.0    EcoSampa   Menor que 1m³ -23.656249 -46.703518   \n",
       "\n",
       "       Volume_int  Quadrimestre   Ano  \n",
       "0             1.0             1  2019  \n",
       "1             1.0             1  2019  \n",
       "2             1.0             1  2019  \n",
       "3             1.0             1  2019  \n",
       "4             1.0             1  2019  \n",
       "...           ...           ...   ...  \n",
       "14478         1.0             1  2021  \n",
       "14479         1.0             1  2021  \n",
       "14480         1.0             1  2021  \n",
       "14481         1.0             1  2021  \n",
       "14482         1.0             1  2021  \n",
       "\n",
       "[14483 rows x 11 columns]"
      ]
     },
     "execution_count": 87,
     "metadata": {},
     "output_type": "execute_result"
    }
   ],
   "source": [
    "import pandas as pd\n",
    "\n",
    "df = pd.read_excel('planilha_tratada.xlsx')\n",
    "df"
   ]
  },
  {
   "cell_type": "code",
   "execution_count": 88,
   "metadata": {},
   "outputs": [
    {
     "data": {
      "text/plain": [
       "Lat\n",
       "False    14481\n",
       "Name: count, dtype: int64"
      ]
     },
     "execution_count": 88,
     "metadata": {},
     "output_type": "execute_result"
    }
   ],
   "source": [
    "df = df.dropna(subset='Lat')\n",
    "\n",
    "df['Lat'].isna().value_counts()"
   ]
  },
  {
   "cell_type": "code",
   "execution_count": 89,
   "metadata": {},
   "outputs": [
    {
     "data": {
      "text/plain": [
       "Long\n",
       "False    14480\n",
       "Name: count, dtype: int64"
      ]
     },
     "execution_count": 89,
     "metadata": {},
     "output_type": "execute_result"
    }
   ],
   "source": [
    "df = df.dropna(subset='Long')\n",
    "\n",
    "df['Long'].isna().value_counts()"
   ]
  },
  {
   "cell_type": "code",
   "execution_count": 90,
   "metadata": {},
   "outputs": [
    {
     "data": {
      "text/plain": [
       "0       -23.625150\n",
       "1       -23.678828\n",
       "2       -23.631124\n",
       "3       -23.665131\n",
       "4       -23.664908\n",
       "           ...    \n",
       "14478   -23.677531\n",
       "14479   -23.634478\n",
       "14480   -23.657803\n",
       "14481   -23.670696\n",
       "14482   -23.656249\n",
       "Name: Lat, Length: 14480, dtype: float64"
      ]
     },
     "execution_count": 90,
     "metadata": {},
     "output_type": "execute_result"
    }
   ],
   "source": [
    "df['Lat'] = df['Lat'].apply(str)\n",
    "df['Lat'] = df['Lat'].str.replace(',', '.')\n",
    "df['Lat'] = df['Lat'].apply(float)\n",
    "df['Lat']"
   ]
  },
  {
   "cell_type": "code",
   "execution_count": 91,
   "metadata": {},
   "outputs": [
    {
     "data": {
      "text/plain": [
       "0       -46.762440\n",
       "1       -46.780690\n",
       "2       -46.752098\n",
       "3       -46.777485\n",
       "4       -46.780861\n",
       "           ...    \n",
       "14478   -46.678865\n",
       "14479   -46.714604\n",
       "14480   -46.704040\n",
       "14481   -46.675390\n",
       "14482   -46.703518\n",
       "Name: Long, Length: 14480, dtype: float64"
      ]
     },
     "execution_count": 91,
     "metadata": {},
     "output_type": "execute_result"
    }
   ],
   "source": [
    "df['Long'] = df['Long'].apply(str)\n",
    "df['Long'] = df['Long'].str.replace('46-646508', '-46,646508').str.replace(',', '.')\n",
    "df['Long'] = df['Long'].apply(float)\n",
    "df['Long']"
   ]
  },
  {
   "cell_type": "code",
   "execution_count": 92,
   "metadata": {},
   "outputs": [],
   "source": [
    "df = df.dropna()"
   ]
  },
  {
   "cell_type": "code",
   "execution_count": 93,
   "metadata": {},
   "outputs": [],
   "source": [
    "df['Subprefeitura'] =  df['Subprefeitura'].str.upper()\n",
    "df['Contratada'] = df['Contratada'].str.upper()"
   ]
  },
  {
   "cell_type": "code",
   "execution_count": 94,
   "metadata": {},
   "outputs": [],
   "source": [
    "df['Subprefeitura'] = df['Subprefeitura'].str.strip().str.replace('M BOI MIRIM', \"M'BOI MIRIM\").str.replace(\"M'BOI IRIM\", \"M'BOI MIRIM\").str.replace('BUTANTA', 'BUTANTÃ').str.replace('JAÇANÃ / TREMEMBE', 'JAÇANÃ / TREMEMBÉ')"
   ]
  },
  {
   "cell_type": "code",
   "execution_count": 95,
   "metadata": {},
   "outputs": [
    {
     "data": {
      "text/plain": [
       "{'SÉ': np.int64(1822),\n",
       " 'SÃO MATEUS': np.int64(1458),\n",
       " 'ITAIM PAULISTA': np.int64(1174),\n",
       " 'MOOCA': np.int64(971),\n",
       " 'PIRITUBA': np.int64(723),\n",
       " 'PIRITUBA-JARAGUA': np.int64(612),\n",
       " 'SÃO MIGUEL PAULISTA': np.int64(564),\n",
       " 'IPIRANGA': np.int64(457),\n",
       " 'CASA VERDE': np.int64(396),\n",
       " 'CIDADE TIRADENTES': np.int64(391),\n",
       " 'V. MARIA / V. GUILHERME': np.int64(377),\n",
       " 'PENHA': np.int64(377),\n",
       " 'GUAIANASES': np.int64(345),\n",
       " 'SANTO AMARO': np.int64(323),\n",
       " 'ITAQUERA': np.int64(306),\n",
       " 'VILA MARIANA': np.int64(301),\n",
       " 'BUTANTÃ': np.int64(290),\n",
       " 'JABAQUARA': np.int64(257),\n",
       " 'CIDADE ADEMAR': np.int64(245),\n",
       " \"M'BOI MIRIM\": np.int64(238),\n",
       " 'FREGUESIA DO Ó': np.int64(227),\n",
       " 'SAPOPEMBA': np.int64(224),\n",
       " 'PIRITUBA/JARAGUA': np.int64(221),\n",
       " 'ERMELINO MATARAZZO': np.int64(221),\n",
       " 'PERUS': np.int64(208),\n",
       " 'VILA PRUDENTE': np.int64(193),\n",
       " 'LAPA': np.int64(191),\n",
       " 'CAMPO LIMPO': np.int64(180),\n",
       " 'ARICANDUVA / VILA FORMOSA': np.int64(175),\n",
       " 'PINHEIROS': np.int64(169),\n",
       " 'CAPELA DO SOCORRO': np.int64(99),\n",
       " 'PARELHEIROS': np.int64(77),\n",
       " 'ARICANDUVA/FORMOSA/CARRÃO': np.int64(55),\n",
       " 'SANTANA / TUCURUVI': np.int64(42),\n",
       " 'ARICANDUVA/FORMOSA': np.int64(35),\n",
       " 'JAÇANÃ / TREMEMBÉ': np.int64(22)}"
      ]
     },
     "execution_count": 95,
     "metadata": {},
     "output_type": "execute_result"
    }
   ],
   "source": [
    "dic_subprefeitura_count = dict(df['Subprefeitura'].value_counts())\n",
    "subprefeitura_com_mais_pontos = dic_subprefeitura_count\n",
    "total_de_casos = 0\n",
    "\n",
    "for chave, valor in dic_subprefeitura_count.items():\n",
    "    total_de_casos += valor\n",
    "\n",
    "dic_subprefeitura_count"
   ]
  },
  {
   "cell_type": "code",
   "execution_count": 97,
   "metadata": {},
   "outputs": [
    {
     "data": {
      "text/plain": [
       "np.float64(0.15752541887440927)"
      ]
     },
     "execution_count": 97,
     "metadata": {},
     "output_type": "execute_result"
    }
   ],
   "source": [
    "dic_subprefeitura_count['JAÇANÃ / TREMEMBÉ'] / total_de_casos * 100"
   ]
  },
  {
   "cell_type": "code",
   "execution_count": 102,
   "metadata": {},
   "outputs": [
    {
     "data": {
      "text/plain": [
       "{'CORPUS': np.int64(3892),\n",
       " 'SUSTENTARE': np.int64(2560),\n",
       " 'ECOSS': np.int64(2015),\n",
       " 'LIMPA SP': np.int64(1109),\n",
       " 'SOMA': np.int64(1091),\n",
       " 'INOVA': np.int64(859),\n",
       " 'LOCAT SP': np.int64(841),\n",
       " 'LOCATSP': np.int64(577),\n",
       " 'ECOSAMPA': np.int64(501),\n",
       " 'TREVO': np.int64(332),\n",
       " 'CONSÓRCIO SCK': np.int64(189)}"
      ]
     },
     "execution_count": 102,
     "metadata": {},
     "output_type": "execute_result"
    }
   ],
   "source": [
    "dic_empresas_count = dict(df['Contratada'].value_counts())\n",
    "total_de_casos_empresas = 0\n",
    "\n",
    "for chave, valor in dic_empresas_count.items():\n",
    "    total_de_casos_empresas += valor\n",
    "\n",
    "dic_empresas_count"
   ]
  },
  {
   "cell_type": "code",
   "execution_count": 103,
   "metadata": {},
   "outputs": [
    {
     "data": {
      "text/plain": [
       "np.int64(13966)"
      ]
     },
     "execution_count": 103,
     "metadata": {},
     "output_type": "execute_result"
    }
   ],
   "source": [
    "## CASOS REVITALIZADOS"
   ]
  },
  {
   "cell_type": "code",
   "execution_count": null,
   "metadata": {},
   "outputs": [],
   "source": [
    "df.to_excel('planilha_tratada_oficial.xlsx', index=0)"
   ]
  },
  {
   "cell_type": "code",
   "execution_count": null,
   "metadata": {},
   "outputs": [],
   "source": []
  }
 ],
 "metadata": {
  "kernelspec": {
   "display_name": "Python 3",
   "language": "python",
   "name": "python3"
  },
  "language_info": {
   "codemirror_mode": {
    "name": "ipython",
    "version": 3
   },
   "file_extension": ".py",
   "mimetype": "text/x-python",
   "name": "python",
   "nbconvert_exporter": "python",
   "pygments_lexer": "ipython3",
   "version": "3.12.1"
  }
 },
 "nbformat": 4,
 "nbformat_minor": 2
}

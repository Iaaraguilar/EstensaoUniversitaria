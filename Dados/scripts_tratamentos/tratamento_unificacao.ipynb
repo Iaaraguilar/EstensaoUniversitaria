{
 "cells": [
  {
   "cell_type": "code",
   "execution_count": 9,
   "metadata": {},
   "outputs": [],
   "source": [
    "import pandas as pd\n",
    "\n",
    "# Caminho do arquivo Excel com várias abas\n",
    "arquivo = 'Planilhas/pontos_viciados_2019.xlsx'\n",
    "\n",
    "# Carregar todas as abas\n",
    "abas = pd.read_excel(arquivo, sheet_name=None)  # Retorna um dicionário: {nome_aba: DataFrame}\n",
    "\n",
    "# Concatenar todas as abas em um só DataFrame\n",
    "dfs = []\n",
    "for nome_aba, df in abas.items():\n",
    "    df['Origem_aba'] = nome_aba  # (opcional) Adiciona o nome da aba como coluna\n",
    "    dfs.append(df)\n",
    "\n",
    "df_combinado = pd.concat(dfs, ignore_index=True)\n",
    "\n",
    "df_combinado.to_excel('unificado_pontos_viciados_2019.xlsx')"
   ]
  },
  {
   "cell_type": "code",
   "execution_count": 10,
   "metadata": {},
   "outputs": [],
   "source": [
    "import pandas as pd\n",
    "\n",
    "# Caminho do arquivo Excel com várias abas\n",
    "arquivo = 'Planilhas/pontos_viciados_2020.xlsx'\n",
    "\n",
    "# Carregar todas as abas\n",
    "abas = pd.read_excel(arquivo, sheet_name=None)  # Retorna um dicionário: {nome_aba: DataFrame}\n",
    "\n",
    "# Concatenar todas as abas em um só DataFrame\n",
    "dfs = []\n",
    "for nome_aba, df in abas.items():\n",
    "    df['Origem_aba'] = nome_aba  # (opcional) Adiciona o nome da aba como coluna\n",
    "    dfs.append(df)\n",
    "\n",
    "df_combinado = pd.concat(dfs, ignore_index=True)\n",
    "\n",
    "df_combinado.to_excel('unificado_pontos_viciados_2020.xlsx')"
   ]
  },
  {
   "cell_type": "code",
   "execution_count": 14,
   "metadata": {},
   "outputs": [],
   "source": [
    "import pandas as pd\n",
    "import os\n",
    "\n",
    "# Caminho da pasta onde estão os arquivos Excel\n",
    "pasta = \"C:/Users/54094462830/Documents/Artigos/Extensão_Universitária/Dados/Planilhas_Unificadas\"\n",
    "\n",
    "# Lista para armazenar os DataFrames\n",
    "todos_dfs = []\n",
    "\n",
    "# Percorrer todos os arquivos na pasta\n",
    "for arquivo in os.listdir(pasta):\n",
    "    if arquivo.endswith('.xlsx'):\n",
    "        caminho_arquivo = os.path.join(pasta, arquivo)\n",
    "        df = pd.read_excel(caminho_arquivo)\n",
    "        df['Fonte'] = arquivo  # Adiciona o nome do arquivo como referência\n",
    "        todos_dfs.append(df)\n",
    "\n",
    "# Juntar todos os DataFrames em um só\n",
    "df_final = pd.concat(todos_dfs, ignore_index=True)\n",
    "\n",
    "# Salvar em um novo arquivo Excel\n",
    "df_final.to_excel('planilha_unificada.xlsx', index=False)"
   ]
  },
  {
   "cell_type": "code",
   "execution_count": null,
   "metadata": {},
   "outputs": [],
   "source": []
  }
 ],
 "metadata": {
  "kernelspec": {
   "display_name": "Python 3",
   "language": "python",
   "name": "python3"
  },
  "language_info": {
   "codemirror_mode": {
    "name": "ipython",
    "version": 3
   },
   "file_extension": ".py",
   "mimetype": "text/x-python",
   "name": "python",
   "nbconvert_exporter": "python",
   "pygments_lexer": "ipython3",
   "version": "3.12.1"
  }
 },
 "nbformat": 4,
 "nbformat_minor": 2
}
